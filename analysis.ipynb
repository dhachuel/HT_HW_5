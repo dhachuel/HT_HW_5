{
 "cells": [
  {
   "cell_type": "code",
   "execution_count": 1,
   "metadata": {},
   "outputs": [],
   "source": [
    "# ENV SETUP\n",
    "import numpy as np\n",
    "import pandas as pd"
   ]
  },
  {
   "cell_type": "code",
   "execution_count": 5,
   "metadata": {
    "scrolled": true
   },
   "outputs": [
    {
     "name": "stdout",
     "output_type": "stream",
     "text": [
      "   BENE_SEX_IDENT_CD  BENE_AGE_CAT_CD  CC_ALZHDMTA  CC_CANCER  CC_CHF  \\\n",
      "0                  1                1          NaN        NaN       0   \n",
      "1                  1                1          NaN        NaN       0   \n",
      "\n",
      "   CC_CHRNKIDN  CC_COPD  CC_DEPRESSN  CC_DIABETES  CC_ISCHMCHT  ...  \\\n",
      "0            0      NaN          NaN            0            0  ...   \n",
      "1            0      NaN          NaN            0            0  ...   \n",
      "\n",
      "   BENE_COUNT_PC_LT_12  AVE_MO_EN_PC_LT_12  BENE_COUNT_PC_EQ_12  \\\n",
      "0                  NaN                 NaN                  NaN   \n",
      "1                  NaN                 NaN                  NaN   \n",
      "\n",
      "   BENE_COUNT_PD_LT_12  AVE_MO_EN_PD_LT_12  AVE_PDE_CST_PD_LT_12  \\\n",
      "0                  NaN                 NaN                   NaN   \n",
      "1                 42.0               5.952                2165.0   \n",
      "\n",
      "   AVE_PDE_PD_LT_12  BENE_COUNT_PD_EQ_12  AVE_PDE_CST_PD_EQ_12  \\\n",
      "0               NaN                 65.0                7230.0   \n",
      "1             24.81                203.0                7163.0   \n",
      "\n",
      "   AVE_PDE_PD_EQ_12  \n",
      "0            49.877  \n",
      "1            73.404  \n",
      "\n",
      "[2 rows x 55 columns]\n"
     ]
    }
   ],
   "source": [
    "# LOAD DATASET\n",
    "df = pd.read_csv(\"2010_Chronic_Conditions_PUF.csv\")\n",
    "\n",
    "# PRINT SOME EXAMPLES\n",
    "print(df.head(2))"
   ]
  },
  {
   "cell_type": "code",
   "execution_count": null,
   "metadata": {},
   "outputs": [],
   "source": [
    "# ('BENE_SEX_IDENT_CD', 'BENE_AGE_CAT_CD', CC_DEPRESSN', '')"
   ]
  },
  {
   "cell_type": "markdown",
   "metadata": {},
   "source": [
    "# Introduction\n",
    "\n",
    "#### Medicare Parts\n",
    "- Part A provides inpatient/hospital coverage.\n",
    "- Part B provides outpatient/medical coverage.\n",
    "- Part C offers an alternate way to receive your Medicare benefits (see below for more information).\n",
    "- Part D provides prescription drug coverage."
   ]
  },
  {
   "cell_type": "code",
   "execution_count": null,
   "metadata": {},
   "outputs": [],
   "source": []
  }
 ],
 "metadata": {
  "kernelspec": {
   "display_name": "Python 3",
   "language": "python",
   "name": "python3"
  },
  "language_info": {
   "codemirror_mode": {
    "name": "ipython",
    "version": 3
   },
   "file_extension": ".py",
   "mimetype": "text/x-python",
   "name": "python",
   "nbconvert_exporter": "python",
   "pygments_lexer": "ipython3",
   "version": "3.7.2"
  }
 },
 "nbformat": 4,
 "nbformat_minor": 2
}
